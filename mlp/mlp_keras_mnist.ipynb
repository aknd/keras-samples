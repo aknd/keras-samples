{
 "cells": [
  {
   "cell_type": "markdown",
   "metadata": {},
   "source": [
    "# Multi-Layer Perceptron (MLP)"
   ]
  },
  {
   "cell_type": "code",
   "execution_count": 1,
   "metadata": {
    "ExecuteTime": {
     "end_time": "2018-12-21T07:45:27.725992Z",
     "start_time": "2018-12-21T07:45:25.053140Z"
    }
   },
   "outputs": [
    {
     "name": "stderr",
     "output_type": "stream",
     "text": [
      "Using TensorFlow backend.\n"
     ]
    }
   ],
   "source": [
    "import os\n",
    "from time import time\n",
    "from datetime import datetime, timedelta, timezone\n",
    "import math\n",
    "import numpy as np\n",
    "import matplotlib.pyplot as plt\n",
    "%matplotlib inline\n",
    "from keras.datasets import mnist\n",
    "from keras.models import Sequential\n",
    "from keras.layers import Dense, Dropout\n",
    "from keras.utils import np_utils\n",
    "from keras.callbacks import EarlyStopping, TensorBoard"
   ]
  },
  {
   "cell_type": "code",
   "execution_count": 2,
   "metadata": {
    "ExecuteTime": {
     "end_time": "2018-12-21T07:45:28.081229Z",
     "start_time": "2018-12-21T07:45:27.729638Z"
    }
   },
   "outputs": [],
   "source": [
    "(X_train, y_train), (X_test, y_test) = mnist.load_data()"
   ]
  },
  {
   "cell_type": "code",
   "execution_count": 3,
   "metadata": {
    "ExecuteTime": {
     "end_time": "2018-12-21T07:45:28.088349Z",
     "start_time": "2018-12-21T07:45:28.083777Z"
    }
   },
   "outputs": [],
   "source": [
    "img_rows, img_cols = 28, 28\n",
    "input_dim = img_rows * img_cols # = 784"
   ]
  },
  {
   "cell_type": "code",
   "execution_count": 4,
   "metadata": {
    "ExecuteTime": {
     "end_time": "2018-12-21T07:45:28.273993Z",
     "start_time": "2018-12-21T07:45:28.094329Z"
    }
   },
   "outputs": [],
   "source": [
    "X_train = X_train.reshape(-1, input_dim).astype('float32') / 255\n",
    "X_test = X_test.reshape(-1, input_dim).astype('float32') / 255"
   ]
  },
  {
   "cell_type": "code",
   "execution_count": 5,
   "metadata": {
    "ExecuteTime": {
     "end_time": "2018-12-21T07:45:28.284979Z",
     "start_time": "2018-12-21T07:45:28.278080Z"
    }
   },
   "outputs": [
    {
     "data": {
      "text/plain": [
       "(60000, 784)"
      ]
     },
     "execution_count": 5,
     "metadata": {},
     "output_type": "execute_result"
    }
   ],
   "source": [
    "X_train.shape"
   ]
  },
  {
   "cell_type": "code",
   "execution_count": 6,
   "metadata": {
    "ExecuteTime": {
     "end_time": "2018-12-21T07:45:28.293265Z",
     "start_time": "2018-12-21T07:45:28.288418Z"
    }
   },
   "outputs": [],
   "source": [
    "output_dim = 10"
   ]
  },
  {
   "cell_type": "code",
   "execution_count": 7,
   "metadata": {
    "ExecuteTime": {
     "end_time": "2018-12-21T07:45:28.309619Z",
     "start_time": "2018-12-21T07:45:28.299738Z"
    }
   },
   "outputs": [],
   "source": [
    "Y_train = np_utils.to_categorical(y_train.astype('int32'), output_dim) \n",
    "Y_test = np_utils.to_categorical(y_test.astype('int32'), output_dim)"
   ]
  },
  {
   "cell_type": "code",
   "execution_count": 8,
   "metadata": {
    "ExecuteTime": {
     "end_time": "2018-12-21T07:45:28.322045Z",
     "start_time": "2018-12-21T07:45:28.311981Z"
    }
   },
   "outputs": [
    {
     "data": {
      "text/plain": [
       "array([0., 0., 0., 0., 0., 1., 0., 0., 0., 0.], dtype=float32)"
      ]
     },
     "execution_count": 8,
     "metadata": {},
     "output_type": "execute_result"
    }
   ],
   "source": [
    "Y_train[0]"
   ]
  },
  {
   "cell_type": "code",
   "execution_count": 9,
   "metadata": {
    "ExecuteTime": {
     "end_time": "2018-12-21T07:45:28.334150Z",
     "start_time": "2018-12-21T07:45:28.327826Z"
    }
   },
   "outputs": [],
   "source": [
    "UNITS_1 = 256\n",
    "UNITS_2 = 512"
   ]
  },
  {
   "cell_type": "code",
   "execution_count": 10,
   "metadata": {
    "ExecuteTime": {
     "end_time": "2018-12-21T07:45:28.344316Z",
     "start_time": "2018-12-21T07:45:28.339774Z"
    }
   },
   "outputs": [],
   "source": [
    "ACTIVATION_1 = 'relu'\n",
    "ACTIVATION_2 = 'relu'"
   ]
  },
  {
   "cell_type": "code",
   "execution_count": 11,
   "metadata": {
    "ExecuteTime": {
     "end_time": "2018-12-21T07:45:28.354161Z",
     "start_time": "2018-12-21T07:45:28.349566Z"
    }
   },
   "outputs": [],
   "source": [
    "DROPOUT_RATE_1 = 0.5\n",
    "DROPOUT_RATE_2 = 0.5"
   ]
  },
  {
   "cell_type": "code",
   "execution_count": 12,
   "metadata": {
    "ExecuteTime": {
     "end_time": "2018-12-21T07:45:28.361005Z",
     "start_time": "2018-12-21T07:45:28.357135Z"
    }
   },
   "outputs": [],
   "source": [
    "OPTIMIZER = 'adam'"
   ]
  },
  {
   "cell_type": "code",
   "execution_count": 13,
   "metadata": {
    "ExecuteTime": {
     "end_time": "2018-12-21T07:45:28.368598Z",
     "start_time": "2018-12-21T07:45:28.364423Z"
    }
   },
   "outputs": [],
   "source": [
    "BATCH_SIZE = 128"
   ]
  },
  {
   "cell_type": "code",
   "execution_count": 14,
   "metadata": {
    "ExecuteTime": {
     "end_time": "2018-12-21T07:45:28.376902Z",
     "start_time": "2018-12-21T07:45:28.372412Z"
    }
   },
   "outputs": [],
   "source": [
    "EPOCHS = 50"
   ]
  },
  {
   "cell_type": "code",
   "execution_count": 15,
   "metadata": {
    "ExecuteTime": {
     "end_time": "2018-12-21T07:45:28.384622Z",
     "start_time": "2018-12-21T07:45:28.379977Z"
    }
   },
   "outputs": [],
   "source": [
    "VALIDATION_SPLIT = 0.1"
   ]
  },
  {
   "cell_type": "code",
   "execution_count": 16,
   "metadata": {
    "ExecuteTime": {
     "end_time": "2018-12-21T07:45:28.633871Z",
     "start_time": "2018-12-21T07:45:28.388175Z"
    }
   },
   "outputs": [
    {
     "name": "stdout",
     "output_type": "stream",
     "text": [
      "_________________________________________________________________\n",
      "Layer (type)                 Output Shape              Param #   \n",
      "=================================================================\n",
      "dense_1 (Dense)              (None, 256)               200960    \n",
      "_________________________________________________________________\n",
      "dropout_1 (Dropout)          (None, 256)               0         \n",
      "_________________________________________________________________\n",
      "dense_2 (Dense)              (None, 512)               131584    \n",
      "_________________________________________________________________\n",
      "dropout_2 (Dropout)          (None, 512)               0         \n",
      "_________________________________________________________________\n",
      "dense_3 (Dense)              (None, 10)                5130      \n",
      "=================================================================\n",
      "Total params: 337,674\n",
      "Trainable params: 337,674\n",
      "Non-trainable params: 0\n",
      "_________________________________________________________________\n"
     ]
    }
   ],
   "source": [
    "model = Sequential()\n",
    "model.add(Dense(UNITS_1, activation=ACTIVATION_1, input_dim=input_dim))\n",
    "model.add(Dropout(DROPOUT_RATE_1))\n",
    "model.add(Dense(UNITS_2, activation=ACTIVATION_2))\n",
    "model.add(Dropout(DROPOUT_RATE_2))\n",
    "model.add(Dense(output_dim, activation='softmax'))\n",
    "model.summary()\n",
    "\n",
    "model.compile(loss='categorical_crossentropy',\n",
    "             optimizer=OPTIMIZER,\n",
    "             metrics=['accuracy'])"
   ]
  },
  {
   "cell_type": "code",
   "execution_count": 17,
   "metadata": {
    "ExecuteTime": {
     "end_time": "2018-12-21T07:45:36.304909Z",
     "start_time": "2018-12-21T07:45:28.639789Z"
    }
   },
   "outputs": [],
   "source": [
    "VERBOSE = 0\n",
    "\n",
    "def make_tensorboard(log_dir_base):\n",
    "    jst = timezone(timedelta(hours=+9), 'JST')\n",
    "    jst_now = datetime.now(jst)\n",
    "    log_dir = log_dir_base + '_' + jst_now.strftime('%Y%m%d%H%M%S')\n",
    "    os.makedirs(log_dir, exist_ok=True)\n",
    "    tensorboard = TensorBoard(log_dir=log_dir)\n",
    "    return tensorboard\n",
    "\n",
    "CALLBACKS = [\n",
    "    # EarlyStopping(patience=0, verbose=1),\n",
    "    make_tensorboard(log_dir_base='log/mlp_keras_mnist')\n",
    "]"
   ]
  },
  {
   "cell_type": "code",
   "execution_count": 18,
   "metadata": {
    "ExecuteTime": {
     "end_time": "2018-12-21T07:49:06.335172Z",
     "start_time": "2018-12-21T07:45:36.308459Z"
    }
   },
   "outputs": [
    {
     "name": "stdout",
     "output_type": "stream",
     "text": [
      "Executed in 210.021s\n"
     ]
    }
   ],
   "source": [
    "start_time = time()\n",
    "\n",
    "history = model.fit(X_train,\n",
    "                    Y_train,\n",
    "                    batch_size=BATCH_SIZE,\n",
    "                    epochs=EPOCHS,\n",
    "                    verbose=VERBOSE,\n",
    "                    validation_split=VALIDATION_SPLIT,\n",
    "                    callbacks=CALLBACKS)\n",
    "\n",
    "print('Executed in {0:.3f}s'.format(time() - start_time))"
   ]
  },
  {
   "cell_type": "code",
   "execution_count": 19,
   "metadata": {
    "ExecuteTime": {
     "end_time": "2018-12-21T07:49:06.884549Z",
     "start_time": "2018-12-21T07:49:06.338649Z"
    }
   },
   "outputs": [
    {
     "data": {
      "image/png": "[encoded data removed]",
      "text/plain": [
       "<Figure size 720x288 with 2 Axes>"
      ]
     },
     "metadata": {
      "needs_background": "light"
     },
     "output_type": "display_data"
    }
   ],
   "source": [
    "plt.figure(1, figsize=(10, 4))\n",
    "plt.subplots_adjust(wspace=0.5)\n",
    "\n",
    "plt.subplot(1, 2, 1)\n",
    "plt.plot(history.history['loss'], label='train', color='black')\n",
    "plt.plot(history.history['val_loss'], label='validation', color='dodgerblue')\n",
    "plt.legend()\n",
    "# plt.ylim(0, 10)\n",
    "plt.grid()\n",
    "plt.title('Loss')\n",
    "plt.xlabel('epoch')\n",
    "plt.ylabel('loss')\n",
    "\n",
    "plt.subplot(1, 2, 2)\n",
    "plt.plot(history.history['acc'], label='train', color='black')\n",
    "plt.plot(history.history['val_acc'], label='validation', color='dodgerblue')\n",
    "plt.legend(loc='lower right')\n",
    "# plt.ylim(0, 1)\n",
    "plt.grid()\n",
    "plt.title('Accuracy')\n",
    "plt.xlabel('epoch')\n",
    "plt.ylabel('acc')\n",
    "\n",
    "plt.show()"
   ]
  },
  {
   "cell_type": "code",
   "execution_count": 20,
   "metadata": {
    "ExecuteTime": {
     "end_time": "2018-12-21T07:49:07.289948Z",
     "start_time": "2018-12-21T07:49:06.888124Z"
    }
   },
   "outputs": [
    {
     "name": "stdout",
     "output_type": "stream",
     "text": [
      "10000/10000 [==============================] - 0s 39us/step\n",
      "Test loss:  0.07334766941401122\n",
      "Test accuracy:  0.9814\n"
     ]
    }
   ],
   "source": [
    "score = model.evaluate(X_test, Y_test, verbose=1)\n",
    "print('Test loss: ', score[0])\n",
    "print('Test accuracy: ', score[1])"
   ]
  },
  {
   "cell_type": "code",
   "execution_count": 21,
   "metadata": {
    "ExecuteTime": {
     "end_time": "2018-12-21T07:49:10.488375Z",
     "start_time": "2018-12-21T07:49:07.296577Z"
    }
   },
   "outputs": [
    {
     "data": {
      "image/png": "[encoded data removed]",
      "text/plain": [
       "<Figure size 360x1008 with 50 Axes>"
      ]
     },
     "metadata": {
      "needs_background": "light"
     },
     "output_type": "display_data"
    }
   ],
   "source": [
    "TEST_COUNT = 50\n",
    "\n",
    "Y_predict = model.predict(X_test)\n",
    "\n",
    "plt.figure(1, figsize=(5, 14))\n",
    "plt.subplots_adjust(hspace=0.4)\n",
    "\n",
    "for i in range(TEST_COUNT):\n",
    "    plt.subplot(TEST_COUNT / 5, 5, i + 1)\n",
    "    X = X_test[i, :].reshape(img_rows, img_cols)\n",
    "    Y = Y_predict[i, :]\n",
    "    prediction = np.argmax(Y)\n",
    "    y = np.argmax(Y_test[i, :])\n",
    "    if prediction == y:\n",
    "        plt.title(prediction, pad=10)\n",
    "    else:\n",
    "        plt.title('{}({})'.format(prediction, y), pad=10,\n",
    "                  backgroundcolor='red')\n",
    "    plt.axis('off')\n",
    "    plt.imshow(X, cmap='gray') \n",
    "\n",
    "plt.show()"
   ]
  }
 ],
 "metadata": {
  "kernelspec": {
   "display_name": "Python 3",
   "language": "python",
   "name": "python3"
  },
  "language_info": {
   "codemirror_mode": {
    "name": "ipython",
    "version": 3
   },
   "file_extension": ".py",
   "mimetype": "text/x-python",
   "name": "python",
   "nbconvert_exporter": "python",
   "pygments_lexer": "ipython3",
   "version": "3.5.3"
  }
 },
 "nbformat": 4,
 "nbformat_minor": 2
}
