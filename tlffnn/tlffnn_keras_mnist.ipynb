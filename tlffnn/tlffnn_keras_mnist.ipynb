{
 "cells": [
  {
   "cell_type": "markdown",
   "metadata": {},
   "source": [
    "# Handwritten Digit Recognition using Two-Layer Feedforward Neural Networks in TensorFlow with Keras"
   ]
  },
  {
   "cell_type": "code",
   "execution_count": 1,
   "metadata": {
    "ExecuteTime": {
     "end_time": "2018-12-18T09:10:22.420602Z",
     "start_time": "2018-12-18T09:10:20.575271Z"
    }
   },
   "outputs": [
    {
     "name": "stderr",
     "output_type": "stream",
     "text": [
      "Using TensorFlow backend.\n"
     ]
    }
   ],
   "source": [
    "import os\n",
    "from time import time\n",
    "from datetime import datetime, timedelta, timezone\n",
    "import math\n",
    "import numpy as np\n",
    "import matplotlib.pyplot as plt\n",
    "%matplotlib inline\n",
    "from keras.datasets import mnist\n",
    "from keras.models import Sequential\n",
    "from keras.layers import Dense\n",
    "from keras.utils import np_utils\n",
    "from keras.callbacks import EarlyStopping, TensorBoard"
   ]
  },
  {
   "cell_type": "code",
   "execution_count": 2,
   "metadata": {
    "ExecuteTime": {
     "end_time": "2018-12-18T09:10:22.737494Z",
     "start_time": "2018-12-18T09:10:22.423888Z"
    }
   },
   "outputs": [],
   "source": [
    "(X_train, y_train), (X_test, y_test) = mnist.load_data()"
   ]
  },
  {
   "cell_type": "markdown",
   "metadata": {
    "ExecuteTime": {
     "end_time": "2018-11-26T11:26:09.970961Z",
     "start_time": "2018-11-26T11:26:09.952335Z"
    }
   },
   "source": [
    "MNISTの手書き数字画像の特徴量は、28×28の2次元配列だ。その全ての行をつなげて1行にする。こうしてできた1次元配列(28×28=784次元ベクトル)を、ニューラルネットワークの各入力とする。"
   ]
  },
  {
   "cell_type": "code",
   "execution_count": 3,
   "metadata": {
    "ExecuteTime": {
     "end_time": "2018-12-18T09:10:22.743477Z",
     "start_time": "2018-12-18T09:10:22.740155Z"
    }
   },
   "outputs": [],
   "source": [
    "img_rows, img_cols = 28, 28\n",
    "input_dim = img_rows * img_cols # = 784"
   ]
  },
  {
   "cell_type": "code",
   "execution_count": 4,
   "metadata": {
    "ExecuteTime": {
     "end_time": "2018-12-18T09:10:22.939209Z",
     "start_time": "2018-12-18T09:10:22.747951Z"
    }
   },
   "outputs": [],
   "source": [
    "X_train = X_train.reshape(-1, input_dim).astype('float32') / 255\n",
    "X_test = X_test.reshape(-1, input_dim).astype('float32') / 255"
   ]
  },
  {
   "cell_type": "markdown",
   "metadata": {},
   "source": [
    "入力の各要素(8ビットの非負整数値)を255(=2^8-1)で割ることで、0〜1に正規化している。"
   ]
  },
  {
   "cell_type": "code",
   "execution_count": 5,
   "metadata": {
    "ExecuteTime": {
     "end_time": "2018-12-18T09:10:22.957175Z",
     "start_time": "2018-12-18T09:10:22.943865Z"
    }
   },
   "outputs": [
    {
     "data": {
      "text/plain": [
       "(60000, 784)"
      ]
     },
     "execution_count": 5,
     "metadata": {},
     "output_type": "execute_result"
    }
   ],
   "source": [
    "X_train.shape"
   ]
  },
  {
   "cell_type": "code",
   "execution_count": 6,
   "metadata": {
    "ExecuteTime": {
     "end_time": "2018-12-18T09:10:22.968454Z",
     "start_time": "2018-12-18T09:10:22.959926Z"
    }
   },
   "outputs": [],
   "source": [
    "# X_train[0]"
   ]
  },
  {
   "cell_type": "markdown",
   "metadata": {},
   "source": [
    "各出力は10次元ベクトルとする。そのベクトルの各次元は、分類されるクラスに対応している。今回は[0..9]の整数だ。"
   ]
  },
  {
   "cell_type": "code",
   "execution_count": 7,
   "metadata": {
    "ExecuteTime": {
     "end_time": "2018-12-18T09:10:22.979922Z",
     "start_time": "2018-12-18T09:10:22.974532Z"
    }
   },
   "outputs": [],
   "source": [
    "output_dim = 10"
   ]
  },
  {
   "cell_type": "markdown",
   "metadata": {},
   "source": [
    "ラベルは、あらかじめ10次元ベクトルに変換しておく。該当クラスの要素だけ1で、他の要素は0にする。この表現方法はone-hotエンコーディング(OHE)と呼ばれる。"
   ]
  },
  {
   "cell_type": "code",
   "execution_count": 8,
   "metadata": {
    "ExecuteTime": {
     "end_time": "2018-12-18T09:10:22.992932Z",
     "start_time": "2018-12-18T09:10:22.983664Z"
    }
   },
   "outputs": [],
   "source": [
    "Y_train = np_utils.to_categorical(y_train.astype('int32'), output_dim) \n",
    "Y_test = np_utils.to_categorical(y_test.astype('int32'), output_dim)"
   ]
  },
  {
   "cell_type": "code",
   "execution_count": 9,
   "metadata": {
    "ExecuteTime": {
     "end_time": "2018-12-18T09:10:23.006855Z",
     "start_time": "2018-12-18T09:10:22.999354Z"
    }
   },
   "outputs": [
    {
     "data": {
      "text/plain": [
       "array([0., 0., 0., 0., 0., 1., 0., 0., 0., 0.], dtype=float32)"
      ]
     },
     "execution_count": 9,
     "metadata": {},
     "output_type": "execute_result"
    }
   ],
   "source": [
    "Y_train[0]"
   ]
  },
  {
   "cell_type": "markdown",
   "metadata": {},
   "source": [
    "中間層(隠れ層)のユニット数(ニューロン数)を16とする。ユニット数を増やせば正解率(accuracy)が上がるが、学習に時間がかかる。また、パラメータの数が増えて過学習が起きやすくなる。"
   ]
  },
  {
   "cell_type": "code",
   "execution_count": 10,
   "metadata": {
    "ExecuteTime": {
     "end_time": "2018-12-18T09:10:23.338910Z",
     "start_time": "2018-12-18T09:10:23.333393Z"
    }
   },
   "outputs": [],
   "source": [
    "UNITS = 16\n",
    "# UNITS = 128\n",
    "# UNITS = 512"
   ]
  },
  {
   "cell_type": "markdown",
   "metadata": {},
   "source": [
    "中間層の活性化関数にはSigmoidを使う。これをReLUに変えるだけでも、正解率が上がることを確認しておく。ReLUの方が学習にかかる時間も短くなる。"
   ]
  },
  {
   "cell_type": "code",
   "execution_count": 11,
   "metadata": {
    "ExecuteTime": {
     "end_time": "2018-12-18T09:10:23.706980Z",
     "start_time": "2018-12-18T09:10:23.703160Z"
    }
   },
   "outputs": [],
   "source": [
    "ACTIVATION = 'sigmoid'\n",
    "# ACTIVATION = 'relu'"
   ]
  },
  {
   "cell_type": "markdown",
   "metadata": {},
   "source": [
    "最適化アルゴリズムにはAdamを使う。"
   ]
  },
  {
   "cell_type": "code",
   "execution_count": 12,
   "metadata": {
    "ExecuteTime": {
     "end_time": "2018-12-18T09:10:24.051908Z",
     "start_time": "2018-12-18T09:10:24.045405Z"
    }
   },
   "outputs": [],
   "source": [
    "# OPTIMIZER = 'sgd'\n",
    "# OPTIMIZER = 'rmsprop'\n",
    "OPTIMIZER = 'adam'"
   ]
  },
  {
   "cell_type": "markdown",
   "metadata": {},
   "source": [
    "また、ミニバッチ学習を行う。つまり、ランダムに選択したトレーニングデータの一部(ミニバッチ)を用いた学習(パラメータ更新)を繰り返す。今回、ミニバッチのサイズ(batch_size)を128とする。"
   ]
  },
  {
   "cell_type": "code",
   "execution_count": 13,
   "metadata": {
    "ExecuteTime": {
     "end_time": "2018-12-18T09:10:24.382810Z",
     "start_time": "2018-12-18T09:10:24.379154Z"
    }
   },
   "outputs": [],
   "source": [
    "BATCH_SIZE = 128"
   ]
  },
  {
   "cell_type": "markdown",
   "metadata": {},
   "source": [
    "トレーニングデータが60,000個だとすると、60,000 / 128 = 468.75なので、468回のパラメータ更新で、データを全て使ったとみなすことができる。この1サイクルのことをエポックという。\n",
    "\n",
    "今回のように、トレーニングデータ数がバッチサイズで割り切れない場合、実際には、使われずに残るデータがある。さらに、ランダムに選択するがゆえに選択されずに残るデータもある。それでも、(トレーニングデータ数 / バッチサイズ)の小数点以下を切り捨てた整数を、1エポックのイテレーション数とする。"
   ]
  },
  {
   "cell_type": "markdown",
   "metadata": {},
   "source": [
    "今回、エポック数は300とする。"
   ]
  },
  {
   "cell_type": "code",
   "execution_count": 14,
   "metadata": {
    "ExecuteTime": {
     "end_time": "2018-12-18T09:10:24.999670Z",
     "start_time": "2018-12-18T09:10:24.996159Z"
    }
   },
   "outputs": [],
   "source": [
    "EPOCHS = 300"
   ]
  },
  {
   "cell_type": "markdown",
   "metadata": {},
   "source": [
    "最後までいけば、468 × 300 = 140,400回のパラメータ更新が行われる。\n",
    "\n",
    "しかし、学習すればするほど正解率が上がる訳ではない。トレーニングデータに適合し過ぎて、未知データに適合できなくなることがある。これは、オーバーフィッティング(過学習)と呼ばれる。\n",
    "\n",
    "最適なエポック数を試行錯誤で見つけてもいいが、early stoppingを使うことにする。つまり、クロスエントロピー誤差がほとんど変わらなくなった時点で、学習を終了させる。"
   ]
  },
  {
   "cell_type": "markdown",
   "metadata": {
    "ExecuteTime": {
     "end_time": "2018-12-13T15:47:07.703562Z",
     "start_time": "2018-12-13T15:47:07.696937Z"
    }
   },
   "source": [
    "この検証時に使われるデータは、バリデーションデータと呼ばれる。バリデーションデータを用意するために、Kerasでは、model.fitの引数validation_splitを渡す。\n",
    "\n",
    "今回は、"
   ]
  },
  {
   "cell_type": "code",
   "execution_count": 15,
   "metadata": {
    "ExecuteTime": {
     "end_time": "2018-12-18T09:10:25.550903Z",
     "start_time": "2018-12-18T09:10:25.547273Z"
    }
   },
   "outputs": [],
   "source": [
    "VALIDATION_SPLIT = 0.1"
   ]
  },
  {
   "cell_type": "markdown",
   "metadata": {
    "ExecuteTime": {
     "end_time": "2018-12-13T15:48:35.138342Z",
     "start_time": "2018-12-13T15:48:35.131787Z"
    }
   },
   "source": [
    "としておく。すると、自動的にトレーニングデータの10%をバリデーションデータとして使ってくれる。バリデーションデータをよけておくので、トレーニングデータは、実際には60,000個より少なくなる。"
   ]
  },
  {
   "cell_type": "markdown",
   "metadata": {},
   "source": [
    "バリデーションデータは、自分でトレーニングデータから一部をよけておいてもいい。この場合、model.fitの引数validation_dataに、そのデータを渡すことになる。"
   ]
  },
  {
   "cell_type": "markdown",
   "metadata": {
    "ExecuteTime": {
     "end_time": "2018-12-13T15:51:14.687702Z",
     "start_time": "2018-12-13T15:51:14.681375Z"
    }
   },
   "source": [
    "validation_dataにテストデータを渡しているソースコードもあるが、本当は良くない。テストの時に、実際よりも高い正答率が出てしまう。テストデータを使ってチューニングをするのだから、当然そうなる。テストデータは、最後にパフォーマンスを見るためだけにとっておく。"
   ]
  },
  {
   "cell_type": "markdown",
   "metadata": {},
   "source": [
    "出力層の活性化関数にはsoftmax関数を使う。"
   ]
  },
  {
   "cell_type": "markdown",
   "metadata": {},
   "source": [
    "\\begin{equation}\n",
    "    \\require{color}\n",
    "    \\color{black}\n",
    "    y = \\frac{\\exp(x)}{\\sum^n_{k=1}\\exp(x_k)} \\nonumber\n",
    "\\end{equation}"
   ]
  },
  {
   "cell_type": "markdown",
   "metadata": {
    "ExecuteTime": {
     "end_time": "2018-12-18T08:56:03.536918Z",
     "start_time": "2018-12-18T08:56:03.529127Z"
    }
   },
   "source": [
    "すると、出力は、全てのユニットの出力の和が1であるような正数となる。このことが、確率的解釈を可能とする。つまり、出力層の各ユニットから出力される値は、そのユニットに対応するクラスに分類される確率だと考えることができるようになる。"
   ]
  },
  {
   "cell_type": "markdown",
   "metadata": {},
   "source": [
    "損失関数、つまり誤差としては、カテゴリカルクロスエントロピーを使う。"
   ]
  },
  {
   "cell_type": "markdown",
   "metadata": {},
   "source": [
    "\\begin{equation}\n",
    "    \\require{color}\n",
    "    \\color{black}\n",
    "    E = -\\sum_kt_k\\log(y_k) \\nonumber\n",
    "\\end{equation}\n",
    "\n",
    "$ y_k $: 出力層のk番目のユニットの出力\n",
    "\n",
    "$ t_k $: 出力層のk番目のユニットのターゲット出力(正解値)"
   ]
  },
  {
   "cell_type": "markdown",
   "metadata": {},
   "source": [
    "ラベルはOHEで表現されているので、$ t_k $は0か1だ。このことから、損失関数は、"
   ]
  },
  {
   "cell_type": "markdown",
   "metadata": {},
   "source": [
    "\\begin{equation}\n",
    "    \\require{color}\n",
    "    \\color{black}\n",
    "    E = -\\log(y_\\hat{k})|\\tiny{\\hat{k}\\mbox{は、正解のクラスに対応するユニットのインデックス}} \\nonumber\n",
    "\\end{equation}"
   ]
  },
  {
   "cell_type": "markdown",
   "metadata": {},
   "source": [
    "ということになる。"
   ]
  },
  {
   "cell_type": "markdown",
   "metadata": {},
   "source": [
    "この関数は単調減少で、$ y_\\hat{k} $が1に近づくほど0に近づく。"
   ]
  },
  {
   "cell_type": "markdown",
   "metadata": {
    "ExecuteTime": {
     "end_time": "2018-12-13T16:22:21.334910Z",
     "start_time": "2018-12-13T16:22:21.326857Z"
    }
   },
   "source": [
    "では、Kerasで2層のニューラルネットワークを作る。中間層が1層と出力層が1層の構成だ。入力層は、実質的には中間層の1層目に対する入力なので、実装上は出現しない。"
   ]
  },
  {
   "cell_type": "code",
   "execution_count": 16,
   "metadata": {
    "ExecuteTime": {
     "end_time": "2018-12-18T09:10:29.110553Z",
     "start_time": "2018-12-18T09:10:29.012375Z"
    }
   },
   "outputs": [],
   "source": [
    "model = Sequential()\n",
    "model.add(Dense(UNITS, activation=ACTIVATION, input_dim=input_dim))\n",
    "model.add(Dense(output_dim, activation='softmax'))\n",
    "\n",
    "model.compile(loss='categorical_crossentropy',\n",
    "             optimizer=OPTIMIZER,\n",
    "             metrics=['accuracy'])"
   ]
  },
  {
   "cell_type": "markdown",
   "metadata": {},
   "source": [
    "ログを出すには、verbose=1とする。TensorBoardを作成するためのコールバックも用意しておく。"
   ]
  },
  {
   "cell_type": "code",
   "execution_count": 17,
   "metadata": {
    "ExecuteTime": {
     "end_time": "2018-12-18T09:10:36.630578Z",
     "start_time": "2018-12-18T09:10:29.339897Z"
    }
   },
   "outputs": [],
   "source": [
    "VERBOSE = 1\n",
    "# VERBOSE = 0\n",
    "\n",
    "def make_tensorboard(log_dir_base):\n",
    "    jst = timezone(timedelta(hours=+9), 'JST')\n",
    "    jst_now = datetime.now(jst)\n",
    "    log_dir = log_dir_base + '_' + jst_now.strftime('%Y%m%d%H%M%S')\n",
    "    os.makedirs(log_dir, exist_ok=True)\n",
    "    tensorboard = TensorBoard(log_dir=log_dir)\n",
    "    return tensorboard\n",
    "\n",
    "CALLBACKS = [\n",
    "    EarlyStopping(patience=0, verbose=1),\n",
    "    make_tensorboard(log_dir_base='log/tlffnn_keras_mnist')\n",
    "]"
   ]
  },
  {
   "cell_type": "markdown",
   "metadata": {},
   "source": [
    "実行時間を計測しながら、学習させる。"
   ]
  },
  {
   "cell_type": "code",
   "execution_count": 18,
   "metadata": {
    "ExecuteTime": {
     "end_time": "2018-12-18T09:10:57.966987Z",
     "start_time": "2018-12-18T09:10:36.633789Z"
    }
   },
   "outputs": [
    {
     "name": "stdout",
     "output_type": "stream",
     "text": [
      "Train on 54000 samples, validate on 6000 samples\n",
      "Epoch 1/300\n",
      "54000/54000 [==============================] - 1s 18us/step - loss: 1.2513 - acc: 0.7514 - val_loss: 0.7045 - val_acc: 0.8877\n",
      "Epoch 2/300\n",
      "54000/54000 [==============================] - 1s 15us/step - loss: 0.5960 - acc: 0.8830 - val_loss: 0.4252 - val_acc: 0.9170\n",
      "Epoch 3/300\n",
      "54000/54000 [==============================] - 1s 15us/step - loss: 0.4251 - acc: 0.9020 - val_loss: 0.3320 - val_acc: 0.9237\n",
      "Epoch 4/300\n",
      "54000/54000 [==============================] - 1s 15us/step - loss: 0.3533 - acc: 0.9104 - val_loss: 0.2832 - val_acc: 0.9290\n",
      "Epoch 5/300\n",
      "54000/54000 [==============================] - 1s 15us/step - loss: 0.3137 - acc: 0.9166 - val_loss: 0.2550 - val_acc: 0.9337\n",
      "Epoch 6/300\n",
      "54000/54000 [==============================] - 1s 15us/step - loss: 0.2882 - acc: 0.9213 - val_loss: 0.2368 - val_acc: 0.9372\n",
      "Epoch 7/300\n",
      "54000/54000 [==============================] - 1s 15us/step - loss: 0.2692 - acc: 0.9251 - val_loss: 0.2237 - val_acc: 0.9405\n",
      "Epoch 8/300\n",
      "54000/54000 [==============================] - 1s 15us/step - loss: 0.2547 - acc: 0.9283 - val_loss: 0.2126 - val_acc: 0.9432\n",
      "Epoch 9/300\n",
      "54000/54000 [==============================] - 1s 15us/step - loss: 0.2432 - acc: 0.9316 - val_loss: 0.2043 - val_acc: 0.9438\n",
      "Epoch 10/300\n",
      "54000/54000 [==============================] - 1s 16us/step - loss: 0.2332 - acc: 0.9342 - val_loss: 0.1978 - val_acc: 0.9468\n",
      "Epoch 11/300\n",
      "54000/54000 [==============================] - 1s 15us/step - loss: 0.2251 - acc: 0.9367 - val_loss: 0.1919 - val_acc: 0.9482\n",
      "Epoch 12/300\n",
      "54000/54000 [==============================] - 1s 15us/step - loss: 0.2178 - acc: 0.9381 - val_loss: 0.1887 - val_acc: 0.9507\n",
      "Epoch 13/300\n",
      "54000/54000 [==============================] - 1s 15us/step - loss: 0.2112 - acc: 0.9396 - val_loss: 0.1838 - val_acc: 0.9512\n",
      "Epoch 14/300\n",
      "54000/54000 [==============================] - 1s 15us/step - loss: 0.2055 - acc: 0.9411 - val_loss: 0.1805 - val_acc: 0.9497\n",
      "Epoch 15/300\n",
      "54000/54000 [==============================] - 1s 15us/step - loss: 0.2005 - acc: 0.9427 - val_loss: 0.1781 - val_acc: 0.9502\n",
      "Epoch 16/300\n",
      "54000/54000 [==============================] - 1s 15us/step - loss: 0.1958 - acc: 0.9439 - val_loss: 0.1761 - val_acc: 0.9518\n",
      "Epoch 17/300\n",
      "54000/54000 [==============================] - 1s 15us/step - loss: 0.1914 - acc: 0.9450 - val_loss: 0.1746 - val_acc: 0.9515\n",
      "Epoch 18/300\n",
      "54000/54000 [==============================] - 1s 15us/step - loss: 0.1874 - acc: 0.9466 - val_loss: 0.1724 - val_acc: 0.9525\n",
      "Epoch 19/300\n",
      "54000/54000 [==============================] - 1s 15us/step - loss: 0.1840 - acc: 0.9470 - val_loss: 0.1713 - val_acc: 0.9527\n",
      "Epoch 20/300\n",
      "54000/54000 [==============================] - 1s 15us/step - loss: 0.1805 - acc: 0.9480 - val_loss: 0.1705 - val_acc: 0.9523\n",
      "Epoch 21/300\n",
      "54000/54000 [==============================] - 1s 15us/step - loss: 0.1776 - acc: 0.9491 - val_loss: 0.1671 - val_acc: 0.9540\n",
      "Epoch 22/300\n",
      "54000/54000 [==============================] - 1s 16us/step - loss: 0.1748 - acc: 0.9500 - val_loss: 0.1657 - val_acc: 0.9533\n",
      "Epoch 23/300\n",
      "54000/54000 [==============================] - 1s 15us/step - loss: 0.1718 - acc: 0.9506 - val_loss: 0.1648 - val_acc: 0.9528\n",
      "Epoch 24/300\n",
      "54000/54000 [==============================] - 1s 15us/step - loss: 0.1692 - acc: 0.9513 - val_loss: 0.1635 - val_acc: 0.9533\n",
      "Epoch 25/300\n",
      "54000/54000 [==============================] - 1s 16us/step - loss: 0.1669 - acc: 0.9523 - val_loss: 0.1638 - val_acc: 0.9540\n",
      "Epoch 00025: early stopping\n",
      "Executed in 21.327s\n"
     ]
    }
   ],
   "source": [
    "start_time = time()\n",
    "\n",
    "history = model.fit(X_train,\n",
    "                    Y_train,\n",
    "                    batch_size=BATCH_SIZE,\n",
    "                    epochs=EPOCHS,\n",
    "                    verbose=VERBOSE,\n",
    "                    validation_split=VALIDATION_SPLIT,\n",
    "                    callbacks=CALLBACKS)\n",
    "\n",
    "print('Executed in {0:.3f}s'.format(time() - start_time))"
   ]
  },
  {
   "cell_type": "markdown",
   "metadata": {
    "ExecuteTime": {
     "end_time": "2018-11-04T08:15:42.011245Z",
     "start_time": "2018-11-04T08:15:41.470467Z"
    }
   },
   "source": [
    "学習曲線を見て、オーバーフィッティングが起きていないか確認する。"
   ]
  },
  {
   "cell_type": "code",
   "execution_count": 19,
   "metadata": {
    "ExecuteTime": {
     "end_time": "2018-12-18T09:10:58.400527Z",
     "start_time": "2018-12-18T09:10:57.970243Z"
    }
   },
   "outputs": [
    {
     "data": {
      "image/png": "[encoded data removed]",
      "text/plain": [
       "<Figure size 720x288 with 2 Axes>"
      ]
     },
     "metadata": {
      "needs_background": "light"
     },
     "output_type": "display_data"
    }
   ],
   "source": [
    "plt.figure(1, figsize=(10, 4))\n",
    "plt.subplots_adjust(wspace=0.5)\n",
    "\n",
    "plt.subplot(1, 2, 1)\n",
    "plt.plot(history.history['loss'], label='train', color='black')\n",
    "plt.plot(history.history['val_loss'], label='validation', color='dodgerblue')\n",
    "plt.legend()\n",
    "# plt.ylim(0, 10)\n",
    "plt.grid()\n",
    "plt.title('Loss')\n",
    "plt.xlabel('epoch')\n",
    "plt.ylabel('loss')\n",
    "\n",
    "plt.subplot(1, 2, 2)\n",
    "plt.plot(history.history['acc'], label='train', color='black')\n",
    "plt.plot(history.history['val_acc'], label='validation', color='dodgerblue')\n",
    "plt.legend(loc='lower right')\n",
    "# plt.ylim(0, 1)\n",
    "plt.grid()\n",
    "plt.title('Accuracy')\n",
    "plt.xlabel('epoch')\n",
    "plt.ylabel('acc')\n",
    "\n",
    "plt.show()"
   ]
  },
  {
   "cell_type": "markdown",
   "metadata": {},
   "source": [
    "テストデータを使って結果を確認する。"
   ]
  },
  {
   "cell_type": "code",
   "execution_count": 20,
   "metadata": {
    "ExecuteTime": {
     "end_time": "2018-12-18T09:10:58.594451Z",
     "start_time": "2018-12-18T09:10:58.406498Z"
    }
   },
   "outputs": [
    {
     "name": "stdout",
     "output_type": "stream",
     "text": [
      "10000/10000 [==============================] - 0s 18us/step\n",
      "Test loss:  0.19434047244638206\n",
      "Test accuracy:  0.941\n"
     ]
    }
   ],
   "source": [
    "score = model.evaluate(X_test, Y_test, verbose=1)\n",
    "print('Test loss: ', score[0])\n",
    "print('Test accuracy: ', score[1])"
   ]
  },
  {
   "cell_type": "markdown",
   "metadata": {},
   "source": [
    "正解率を出すだけではなく、最初の50個の具体的な結果も出す。画像の上に予測を表示し、間違えている場合は括弧つきで正解も表示する。背景色を赤にすることで、間違いを見つけやすくしておく。"
   ]
  },
  {
   "cell_type": "code",
   "execution_count": 21,
   "metadata": {
    "ExecuteTime": {
     "end_time": "2018-12-18T09:11:00.964503Z",
     "start_time": "2018-12-18T09:10:58.598717Z"
    }
   },
   "outputs": [
    {
     "data": {
      "image/png": "[encoded data removed]",
      "text/plain": [
       "<Figure size 360x1008 with 50 Axes>"
      ]
     },
     "metadata": {
      "needs_background": "light"
     },
     "output_type": "display_data"
    }
   ],
   "source": [
    "TEST_COUNT = 50\n",
    "\n",
    "Y_predict = model.predict(X_test)\n",
    "\n",
    "plt.figure(1, figsize=(5, 14))\n",
    "plt.subplots_adjust(hspace=0.4)\n",
    "\n",
    "for i in range(TEST_COUNT):\n",
    "    plt.subplot(TEST_COUNT / 5, 5, i + 1)\n",
    "    X = X_test[i, :].reshape(img_rows, img_cols)\n",
    "    Y = Y_predict[i, :]\n",
    "    prediction = np.argmax(Y)\n",
    "    y = np.argmax(Y_test[i, :])\n",
    "    if prediction == y:\n",
    "        plt.title(prediction, pad=10)\n",
    "    else:\n",
    "        plt.title('{}({})'.format(prediction, y), pad=10,\n",
    "                  backgroundcolor='red')\n",
    "    plt.axis('off')\n",
    "    plt.imshow(X, cmap='gray') \n",
    "\n",
    "plt.show()"
   ]
  },
  {
   "cell_type": "markdown",
   "metadata": {},
   "source": [
    "最後に、パラメータ(weights)を視覚化しておくのも面白い。"
   ]
  },
  {
   "cell_type": "code",
   "execution_count": 22,
   "metadata": {
    "ExecuteTime": {
     "end_time": "2018-12-18T09:11:01.835227Z",
     "start_time": "2018-12-18T09:11:00.967238Z"
    }
   },
   "outputs": [
    {
     "data": {
      "image/png": "[encoded data removed]",
      "text/plain": [
       "<Figure size 432x432 with 16 Axes>"
      ]
     },
     "metadata": {
      "needs_background": "light"
     },
     "output_type": "display_data"
    }
   ],
   "source": [
    "weights = model.layers[0].get_weights()[0]\n",
    "\n",
    "columns = 4\n",
    "rows = math.ceil(UNITS / columns)\n",
    "plt.figure(1, figsize=(columns * 1.5, rows * 1.5))\n",
    "plt.subplots_adjust(wspace=0.25, hspace=0.25)\n",
    "\n",
    "for i in range(weights.shape[-1]):\n",
    "    plt.subplot(rows, columns, i + 1)\n",
    "    w = weights[:, i].reshape(img_rows, img_cols)\n",
    "    plt.axis('off')\n",
    "    plt.imshow(w, cmap='gray')\n",
    " \n",
    "plt.show()"
   ]
  },
  {
   "cell_type": "markdown",
   "metadata": {},
   "source": [
    "白い部分に文字の一部があると、そのユニットは活性し、黒い部分だと抑制する。いくつかは、数字の\"2\"や\"3\"の形が浮かび上がっているように見える。それらの数字を認識するのに役立っているのかもしれない。"
   ]
  }
 ],
 "metadata": {
  "kernelspec": {
   "display_name": "Python 3",
   "language": "python",
   "name": "python3"
  },
  "language_info": {
   "codemirror_mode": {
    "name": "ipython",
    "version": 3
   },
   "file_extension": ".py",
   "mimetype": "text/x-python",
   "name": "python",
   "nbconvert_exporter": "python",
   "pygments_lexer": "ipython3",
   "version": "3.5.3"
  }
 },
 "nbformat": 4,
 "nbformat_minor": 2
}
