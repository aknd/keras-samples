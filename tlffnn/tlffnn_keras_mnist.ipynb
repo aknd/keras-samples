{
 "cells": [
  {
   "cell_type": "markdown",
   "metadata": {},
   "source": [
    "# Handwritten Digit Recognition using Two-Layer Feedforward Neural Networks in TensorFlow with Keras"
   ]
  },
  {
   "cell_type": "code",
   "execution_count": 1,
   "metadata": {
    "ExecuteTime": {
     "end_time": "2018-12-13T16:32:58.018684Z",
     "start_time": "2018-12-13T16:32:56.071327Z"
    }
   },
   "outputs": [
    {
     "name": "stderr",
     "output_type": "stream",
     "text": [
      "Using TensorFlow backend.\n"
     ]
    }
   ],
   "source": [
    "import os\n",
    "from time import time\n",
    "from datetime import datetime, timedelta, timezone\n",
    "import math\n",
    "import numpy as np\n",
    "import matplotlib.pyplot as plt\n",
    "%matplotlib inline\n",
    "from keras.datasets import mnist\n",
    "from keras.models import Sequential\n",
    "from keras.layers import Dense\n",
    "from keras.utils import np_utils\n",
    "from keras.callbacks import EarlyStopping, TensorBoard"
   ]
  },
  {
   "cell_type": "code",
   "execution_count": 2,
   "metadata": {
    "ExecuteTime": {
     "end_time": "2018-12-13T16:32:58.402357Z",
     "start_time": "2018-12-13T16:32:58.039767Z"
    }
   },
   "outputs": [],
   "source": [
    "(X_train, y_train), (X_test, y_test) = mnist.load_data()"
   ]
  },
  {
   "cell_type": "markdown",
   "metadata": {
    "ExecuteTime": {
     "end_time": "2018-11-26T11:26:09.970961Z",
     "start_time": "2018-11-26T11:26:09.952335Z"
    }
   },
   "source": [
    "MNISTの手書き数字画像の特徴量は、28×28の2次元配列だ。その全ての行をつなげて1行にする。こうしてできた1次元配列(28×28=784次元ベクトル)を、ニューラルネットワークの各入力とする。"
   ]
  },
  {
   "cell_type": "code",
   "execution_count": 3,
   "metadata": {
    "ExecuteTime": {
     "end_time": "2018-12-13T16:33:19.496248Z",
     "start_time": "2018-12-13T16:33:19.492542Z"
    }
   },
   "outputs": [],
   "source": [
    "img_rows, img_cols = 28, 28\n",
    "input_dim = img_rows * img_cols # = 784"
   ]
  },
  {
   "cell_type": "code",
   "execution_count": 4,
   "metadata": {
    "ExecuteTime": {
     "end_time": "2018-12-13T16:33:23.070309Z",
     "start_time": "2018-12-13T16:33:22.882980Z"
    }
   },
   "outputs": [],
   "source": [
    "X_train = X_train.reshape(-1, input_dim).astype('float32') / 255\n",
    "X_test = X_test.reshape(-1, input_dim).astype('float32') / 255"
   ]
  },
  {
   "cell_type": "markdown",
   "metadata": {},
   "source": [
    "入力の各要素(8ビットの非負整数値)を255(=2^8-1)で割ることで、0〜1に正規化している。"
   ]
  },
  {
   "cell_type": "code",
   "execution_count": 5,
   "metadata": {
    "ExecuteTime": {
     "end_time": "2018-12-13T16:33:38.821767Z",
     "start_time": "2018-12-13T16:33:38.814669Z"
    }
   },
   "outputs": [
    {
     "data": {
      "text/plain": [
       "(60000, 784)"
      ]
     },
     "execution_count": 5,
     "metadata": {},
     "output_type": "execute_result"
    }
   ],
   "source": [
    "X_train.shape"
   ]
  },
  {
   "cell_type": "code",
   "execution_count": 6,
   "metadata": {
    "ExecuteTime": {
     "end_time": "2018-12-13T16:33:42.873858Z",
     "start_time": "2018-12-13T16:33:42.869721Z"
    }
   },
   "outputs": [],
   "source": [
    "# X_train[0]"
   ]
  },
  {
   "cell_type": "markdown",
   "metadata": {},
   "source": [
    "各出力は10次元ベクトルとする。そのベクトルの各次元は、分類されるクラスに対応している。今回は[0..9]の整数だ。"
   ]
  },
  {
   "cell_type": "code",
   "execution_count": 7,
   "metadata": {
    "ExecuteTime": {
     "end_time": "2018-12-13T16:33:52.196735Z",
     "start_time": "2018-12-13T16:33:52.193549Z"
    }
   },
   "outputs": [],
   "source": [
    "output_dim = 10"
   ]
  },
  {
   "cell_type": "markdown",
   "metadata": {},
   "source": [
    "ラベルは、あらかじめ10次元ベクトルに変換しておく。該当クラスの要素だけ1で、他の要素は0にする。この表現方法はone-hotエンコーディング(OHE)と呼ばれる。"
   ]
  },
  {
   "cell_type": "code",
   "execution_count": 8,
   "metadata": {
    "ExecuteTime": {
     "end_time": "2018-12-13T16:33:58.636686Z",
     "start_time": "2018-12-13T16:33:58.628453Z"
    }
   },
   "outputs": [],
   "source": [
    "Y_train = np_utils.to_categorical(y_train.astype('int32'), output_dim) \n",
    "Y_test = np_utils.to_categorical(y_test.astype('int32'), output_dim)"
   ]
  },
  {
   "cell_type": "code",
   "execution_count": 9,
   "metadata": {
    "ExecuteTime": {
     "end_time": "2018-12-13T16:34:00.481602Z",
     "start_time": "2018-12-13T16:34:00.473427Z"
    }
   },
   "outputs": [
    {
     "data": {
      "text/plain": [
       "array([0., 0., 0., 0., 0., 1., 0., 0., 0., 0.], dtype=float32)"
      ]
     },
     "execution_count": 9,
     "metadata": {},
     "output_type": "execute_result"
    }
   ],
   "source": [
    "Y_train[0]"
   ]
  },
  {
   "cell_type": "markdown",
   "metadata": {},
   "source": [
    "中間層(隠れ層)のユニット数(ニューロン数)を16とする。ユニット数を増やせば正解率(accuracy)が上がるが、学習に時間がかかる。また、パラメータの数が増えて過学習が起きやすくなる。"
   ]
  },
  {
   "cell_type": "code",
   "execution_count": 10,
   "metadata": {
    "ExecuteTime": {
     "end_time": "2018-12-13T16:34:30.606909Z",
     "start_time": "2018-12-13T16:34:30.602161Z"
    }
   },
   "outputs": [],
   "source": [
    "UNITS = 16\n",
    "# UNITS = 128\n",
    "# UNITS = 512"
   ]
  },
  {
   "cell_type": "markdown",
   "metadata": {},
   "source": [
    "中間層の活性化関数にはSigmoidを使う。これをReLUに変えるだけでも、正解率が上がることを確認しておく。ReLUの方が学習にかかる時間も短くなる。"
   ]
  },
  {
   "cell_type": "code",
   "execution_count": 11,
   "metadata": {
    "ExecuteTime": {
     "end_time": "2018-12-13T16:34:43.968765Z",
     "start_time": "2018-12-13T16:34:43.965630Z"
    }
   },
   "outputs": [],
   "source": [
    "ACTIVATION = 'sigmoid'\n",
    "# ACTIVATION = 'relu'"
   ]
  },
  {
   "cell_type": "markdown",
   "metadata": {},
   "source": [
    "最適化アルゴリズムにはAdamを使う。"
   ]
  },
  {
   "cell_type": "code",
   "execution_count": 12,
   "metadata": {
    "ExecuteTime": {
     "end_time": "2018-12-13T16:34:48.807584Z",
     "start_time": "2018-12-13T16:34:48.804115Z"
    }
   },
   "outputs": [],
   "source": [
    "# OPTIMIZER = 'sgd'\n",
    "# OPTIMIZER = 'rmsprop'\n",
    "OPTIMIZER = 'adam'"
   ]
  },
  {
   "cell_type": "markdown",
   "metadata": {},
   "source": [
    "また、ミニバッチ学習を行う。つまり、ランダムに選択したトレーニングデータの一部(ミニバッチ)を用いた学習(パラメータ更新)を繰り返す。今回、ミニバッチのサイズ(batch_size)を128とする。"
   ]
  },
  {
   "cell_type": "code",
   "execution_count": 13,
   "metadata": {
    "ExecuteTime": {
     "end_time": "2018-12-13T16:34:59.205257Z",
     "start_time": "2018-12-13T16:34:59.201420Z"
    }
   },
   "outputs": [],
   "source": [
    "BATCH_SIZE = 128"
   ]
  },
  {
   "cell_type": "markdown",
   "metadata": {},
   "source": [
    "トレーニングデータが60,000個だとすると、60,000 / 128 = 468.75なので、468回のパラメータ更新で、データを全て使ったとみなすことができる。この1サイクルのことをエポックという。\n",
    "\n",
    "今回のように、トレーニングデータ数がバッチサイズで割り切れない場合、実際には、使われずに残るデータがある。さらに、ランダムに選択するがゆえに選択されずに残るデータもある。それでも、(トレーニングデータ数 / バッチサイズ)の小数点以下を切り捨てた整数を、1エポックのイテレーション数とする。"
   ]
  },
  {
   "cell_type": "markdown",
   "metadata": {},
   "source": [
    "今回、エポック数は300とする。"
   ]
  },
  {
   "cell_type": "code",
   "execution_count": 14,
   "metadata": {
    "ExecuteTime": {
     "end_time": "2018-12-13T16:35:33.330922Z",
     "start_time": "2018-12-13T16:35:33.327492Z"
    }
   },
   "outputs": [],
   "source": [
    "EPOCHS = 300"
   ]
  },
  {
   "cell_type": "markdown",
   "metadata": {},
   "source": [
    "最後までいけば、468 × 300 = 140,400回のパラメータ更新が行われる。\n",
    "\n",
    "しかし、学習すればするほど正答率が上がる訳ではない。トレーニングデータに適合し過ぎて、未知データに適合できなくなることがある。これは、オーバーフィッティング(過学習)と呼ばれる。\n",
    "\n",
    "最適なエポック数を試行錯誤で見つけてもいいが、early stoppingを使うことにする。つまり、クロスエントロピー誤差がほとんど変わらなくなった時点で、学習を終了させる。"
   ]
  },
  {
   "cell_type": "markdown",
   "metadata": {
    "ExecuteTime": {
     "end_time": "2018-12-13T15:47:07.703562Z",
     "start_time": "2018-12-13T15:47:07.696937Z"
    }
   },
   "source": [
    "この検証時に使われるデータは、バリデーションデータと呼ばれる。バリデーションデータを用意するために、Kerasでは、model.fitの引数validation_splitを渡す。\n",
    "\n",
    "今回は、"
   ]
  },
  {
   "cell_type": "code",
   "execution_count": 15,
   "metadata": {
    "ExecuteTime": {
     "end_time": "2018-12-13T16:37:22.399977Z",
     "start_time": "2018-12-13T16:37:22.396541Z"
    }
   },
   "outputs": [],
   "source": [
    "VALIDATION_SPLIT = 0.1"
   ]
  },
  {
   "cell_type": "markdown",
   "metadata": {
    "ExecuteTime": {
     "end_time": "2018-12-13T15:48:35.138342Z",
     "start_time": "2018-12-13T15:48:35.131787Z"
    }
   },
   "source": [
    "としておく。すると、自動的にトレーニングデータの10%をバリデーションデータとして使ってくれる。バリデーションデータをよけておくので、トレーニングデータは、実際には60,000個より少なくなる。"
   ]
  },
  {
   "cell_type": "markdown",
   "metadata": {},
   "source": [
    "バリデーションデータは、自分でトレーニングデータから一部をよけておいてもいい。この場合、model.fitの引数validation_dataに、そのデータを渡すことになる。"
   ]
  },
  {
   "cell_type": "markdown",
   "metadata": {
    "ExecuteTime": {
     "end_time": "2018-12-13T15:51:14.687702Z",
     "start_time": "2018-12-13T15:51:14.681375Z"
    }
   },
   "source": [
    "validation_dataにテストデータを渡しているソースコードもあるが、本当は良くない。テストの時に、実際よりも高い正答率が出てしまう。テストデータを使ってチューニングをするのだから、当然そうなる。テストデータは、最後にパフォーマンスを見るためだけにとっておく。"
   ]
  },
  {
   "cell_type": "markdown",
   "metadata": {
    "ExecuteTime": {
     "end_time": "2018-12-13T16:22:21.334910Z",
     "start_time": "2018-12-13T16:22:21.326857Z"
    }
   },
   "source": [
    "では、2層のニューラルネットワークを作る。中間層が1層と出力層が1層の構成だ。入力層は、実質的には中間層の1層目に対する入力なので、実装上は出現しない。"
   ]
  },
  {
   "cell_type": "code",
   "execution_count": 16,
   "metadata": {
    "ExecuteTime": {
     "end_time": "2018-12-13T16:39:07.172033Z",
     "start_time": "2018-12-13T16:39:07.000546Z"
    }
   },
   "outputs": [],
   "source": [
    "model = Sequential()\n",
    "model.add(Dense(UNITS, activation=ACTIVATION, input_dim=input_dim))\n",
    "model.add(Dense(output_dim, activation='softmax'))\n",
    "\n",
    "model.compile(loss='categorical_crossentropy',\n",
    "             optimizer=OPTIMIZER,\n",
    "             metrics=['accuracy'])"
   ]
  },
  {
   "cell_type": "markdown",
   "metadata": {},
   "source": [
    "ログを出すには、verbose=1とする。TensorBoardを作成するためのコールバックも用意しておく。"
   ]
  },
  {
   "cell_type": "code",
   "execution_count": 17,
   "metadata": {
    "ExecuteTime": {
     "end_time": "2018-12-13T16:39:23.317504Z",
     "start_time": "2018-12-13T16:39:15.057503Z"
    }
   },
   "outputs": [],
   "source": [
    "VERBOSE = 1\n",
    "# VERBOSE = 0\n",
    "\n",
    "def make_tensorboard(log_dir_base):\n",
    "    jst = timezone(timedelta(hours=+9), 'JST')\n",
    "    jst_now = datetime.now(jst)\n",
    "    log_dir = log_dir_base + '_' + jst_now.strftime('%Y%m%d%H%M%S')\n",
    "    os.makedirs(log_dir, exist_ok=True)\n",
    "    tensorboard = TensorBoard(log_dir=log_dir)\n",
    "    return tensorboard\n",
    "\n",
    "CALLBACKS = [\n",
    "    EarlyStopping(patience=0, verbose=1),\n",
    "    make_tensorboard(log_dir_base='log/tlffnn_keras_mnist')\n",
    "]"
   ]
  },
  {
   "cell_type": "markdown",
   "metadata": {},
   "source": [
    "実行時間を計測しながら、学習させる。"
   ]
  },
  {
   "cell_type": "code",
   "execution_count": 18,
   "metadata": {
    "ExecuteTime": {
     "end_time": "2018-12-13T16:39:45.535218Z",
     "start_time": "2018-12-13T16:39:25.146119Z"
    }
   },
   "outputs": [
    {
     "name": "stdout",
     "output_type": "stream",
     "text": [
      "Train on 54000 samples, validate on 6000 samples\n",
      "Epoch 1/300\n",
      "54000/54000 [==============================] - 2s 33us/step - loss: 1.2942 - acc: 0.7459 - val_loss: 0.7351 - val_acc: 0.8915\n",
      "Epoch 2/300\n",
      "54000/54000 [==============================] - 1s 23us/step - loss: 0.6161 - acc: 0.8816 - val_loss: 0.4281 - val_acc: 0.9170\n",
      "Epoch 3/300\n",
      "54000/54000 [==============================] - 1s 22us/step - loss: 0.4317 - acc: 0.9017 - val_loss: 0.3255 - val_acc: 0.9275\n",
      "Epoch 4/300\n",
      "54000/54000 [==============================] - 1s 18us/step - loss: 0.3563 - acc: 0.9121 - val_loss: 0.2774 - val_acc: 0.9337\n",
      "Epoch 5/300\n",
      "54000/54000 [==============================] - 1s 18us/step - loss: 0.3156 - acc: 0.9181 - val_loss: 0.2500 - val_acc: 0.9358\n",
      "Epoch 6/300\n",
      "54000/54000 [==============================] - 1s 17us/step - loss: 0.2891 - acc: 0.9238 - val_loss: 0.2315 - val_acc: 0.9392\n",
      "Epoch 7/300\n",
      "54000/54000 [==============================] - 1s 17us/step - loss: 0.2699 - acc: 0.9275 - val_loss: 0.2181 - val_acc: 0.9433\n",
      "Epoch 8/300\n",
      "54000/54000 [==============================] - 1s 17us/step - loss: 0.2552 - acc: 0.9305 - val_loss: 0.2070 - val_acc: 0.9438\n",
      "Epoch 9/300\n",
      "54000/54000 [==============================] - 1s 17us/step - loss: 0.2432 - acc: 0.9337 - val_loss: 0.1998 - val_acc: 0.9452\n",
      "Epoch 10/300\n",
      "54000/54000 [==============================] - 1s 18us/step - loss: 0.2333 - acc: 0.9357 - val_loss: 0.1932 - val_acc: 0.9480\n",
      "Epoch 11/300\n",
      "54000/54000 [==============================] - 1s 20us/step - loss: 0.2243 - acc: 0.9378 - val_loss: 0.1860 - val_acc: 0.9490\n",
      "Epoch 12/300\n",
      "54000/54000 [==============================] - 1s 19us/step - loss: 0.2170 - acc: 0.9397 - val_loss: 0.1811 - val_acc: 0.9515\n",
      "Epoch 13/300\n",
      "54000/54000 [==============================] - 1s 20us/step - loss: 0.2099 - acc: 0.9413 - val_loss: 0.1769 - val_acc: 0.9520\n",
      "Epoch 14/300\n",
      "54000/54000 [==============================] - 1s 19us/step - loss: 0.2038 - acc: 0.9430 - val_loss: 0.1728 - val_acc: 0.9530\n",
      "Epoch 15/300\n",
      "54000/54000 [==============================] - 1s 18us/step - loss: 0.1983 - acc: 0.9446 - val_loss: 0.1706 - val_acc: 0.9528\n",
      "Epoch 16/300\n",
      "54000/54000 [==============================] - 1s 18us/step - loss: 0.1933 - acc: 0.9457 - val_loss: 0.1667 - val_acc: 0.9520\n",
      "Epoch 17/300\n",
      "54000/54000 [==============================] - 1s 18us/step - loss: 0.1890 - acc: 0.9468 - val_loss: 0.1651 - val_acc: 0.9548\n",
      "Epoch 18/300\n",
      "54000/54000 [==============================] - 1s 17us/step - loss: 0.1844 - acc: 0.9479 - val_loss: 0.1619 - val_acc: 0.9530\n",
      "Epoch 19/300\n",
      "54000/54000 [==============================] - 1s 17us/step - loss: 0.1806 - acc: 0.9485 - val_loss: 0.1623 - val_acc: 0.9558\n",
      "Epoch 00019: early stopping\n",
      "Executed in 20.382s\n"
     ]
    }
   ],
   "source": [
    "start_time = time()\n",
    "\n",
    "history = model.fit(X_train,\n",
    "                    Y_train,\n",
    "                    batch_size=BATCH_SIZE,\n",
    "                    epochs=EPOCHS,\n",
    "                    verbose=VERBOSE,\n",
    "                    validation_split=VALIDATION_SPLIT,\n",
    "                    callbacks=CALLBACKS)\n",
    "\n",
    "print('Executed in {0:.3f}s'.format(time() - start_time))"
   ]
  },
  {
   "cell_type": "markdown",
   "metadata": {
    "ExecuteTime": {
     "end_time": "2018-11-04T08:15:42.011245Z",
     "start_time": "2018-11-04T08:15:41.470467Z"
    }
   },
   "source": [
    "学習曲線を見て、オーバーフィッティングが起きていないか確認する。"
   ]
  },
  {
   "cell_type": "code",
   "execution_count": 19,
   "metadata": {
    "ExecuteTime": {
     "end_time": "2018-12-13T16:39:45.978833Z",
     "start_time": "2018-12-13T16:39:45.540791Z"
    }
   },
   "outputs": [
    {
     "data": {
      "image/png": "[encoded data removed]",
      "text/plain": [
       "<Figure size 720x288 with 2 Axes>"
      ]
     },
     "metadata": {
      "needs_background": "light"
     },
     "output_type": "display_data"
    }
   ],
   "source": [
    "plt.figure(1, figsize=(10, 4))\n",
    "plt.subplots_adjust(wspace=0.5)\n",
    "\n",
    "plt.subplot(1, 2, 1)\n",
    "plt.plot(history.history['loss'], label='train', color='black')\n",
    "plt.plot(history.history['val_loss'], label='validation', color='dodgerblue')\n",
    "plt.legend()\n",
    "# plt.ylim(0, 10)\n",
    "plt.grid()\n",
    "plt.title('Loss')\n",
    "plt.xlabel('epoch')\n",
    "plt.ylabel('loss')\n",
    "\n",
    "plt.subplot(1, 2, 2)\n",
    "plt.plot(history.history['acc'], label='train', color='black')\n",
    "plt.plot(history.history['val_acc'], label='validation', color='dodgerblue')\n",
    "plt.legend(loc='lower right')\n",
    "# plt.ylim(0, 1)\n",
    "plt.grid()\n",
    "plt.title('Accuracy')\n",
    "plt.xlabel('epoch')\n",
    "plt.ylabel('acc')\n",
    "\n",
    "plt.show()"
   ]
  },
  {
   "cell_type": "markdown",
   "metadata": {},
   "source": [
    "テストデータを使って結果を確認する。"
   ]
  },
  {
   "cell_type": "code",
   "execution_count": 20,
   "metadata": {
    "ExecuteTime": {
     "end_time": "2018-12-13T16:39:46.209661Z",
     "start_time": "2018-12-13T16:39:45.984561Z"
    }
   },
   "outputs": [
    {
     "name": "stdout",
     "output_type": "stream",
     "text": [
      "10000/10000 [==============================] - 0s 22us/step\n",
      "Test loss:  0.20192676213681698\n",
      "Test accuracy:  0.9388\n"
     ]
    }
   ],
   "source": [
    "score = model.evaluate(X_test, Y_test, verbose=1)\n",
    "print('Test loss: ', score[0])\n",
    "print('Test accuracy: ', score[1])"
   ]
  },
  {
   "cell_type": "markdown",
   "metadata": {},
   "source": [
    "正解率を出すだけではなく、最初の50個の具体的な結果も出す。画像の上に予測を表示し、間違えている場合は括弧つきで正解も表示する。背景色を赤にすることで、間違いを見つけやすくしておく。"
   ]
  },
  {
   "cell_type": "code",
   "execution_count": 21,
   "metadata": {
    "ExecuteTime": {
     "end_time": "2018-12-13T16:40:15.494979Z",
     "start_time": "2018-12-13T16:40:12.431323Z"
    }
   },
   "outputs": [
    {
     "data": {
      "image/png": "[encoded data removed]",
      "text/plain": [
       "<Figure size 360x1008 with 50 Axes>"
      ]
     },
     "metadata": {
      "needs_background": "light"
     },
     "output_type": "display_data"
    }
   ],
   "source": [
    "TEST_COUNT = 50\n",
    "\n",
    "Y_predict = model.predict(X_test)\n",
    "\n",
    "plt.figure(1, figsize=(5, 14))\n",
    "plt.subplots_adjust(hspace=0.4)\n",
    "\n",
    "for i in range(TEST_COUNT):\n",
    "    plt.subplot(10, 5, i + 1)\n",
    "    X = X_test[i, :].reshape(28, 28)\n",
    "    Y = Y_predict[i, :]\n",
    "    prediction = np.argmax(Y)\n",
    "    y = np.argmax(Y_test[i, :])\n",
    "    if prediction == y:\n",
    "        plt.title(prediction, pad=10)\n",
    "    else:\n",
    "        plt.title('{}({})'.format(prediction, y), pad=10,\n",
    "                  backgroundcolor='red')\n",
    "    plt.axis('off')\n",
    "    plt.imshow(X, cmap='gray') \n",
    "\n",
    "plt.show()"
   ]
  },
  {
   "cell_type": "markdown",
   "metadata": {},
   "source": [
    "最後に、パラメータ(weights)を視覚化しておくのも面白い。"
   ]
  },
  {
   "cell_type": "code",
   "execution_count": 22,
   "metadata": {
    "ExecuteTime": {
     "end_time": "2018-12-13T16:41:07.205129Z",
     "start_time": "2018-12-13T16:41:06.266924Z"
    }
   },
   "outputs": [
    {
     "data": {
      "image/png": "[encoded data removed]",
      "text/plain": [
       "<Figure size 432x432 with 16 Axes>"
      ]
     },
     "metadata": {
      "needs_background": "light"
     },
     "output_type": "display_data"
    }
   ],
   "source": [
    "weights = model.layers[0].get_weights()[0]\n",
    "\n",
    "columns = 4\n",
    "rows = math.ceil(UNITS / columns)\n",
    "plt.figure(1, figsize=(columns * 1.5, rows * 1.5))\n",
    "plt.subplots_adjust(wspace=0.25, hspace=0.25)\n",
    "\n",
    "for i in range(weights.shape[-1]):\n",
    "    plt.subplot(rows, columns, i + 1)\n",
    "    w = weights[:, i].reshape(img_rows, img_cols)\n",
    "    plt.axis('off')\n",
    "    plt.imshow(w, cmap='gray')\n",
    " \n",
    "plt.show()"
   ]
  },
  {
   "cell_type": "markdown",
   "metadata": {},
   "source": [
    "白い部分に文字の一部があると、そのユニットは活性し、黒い部分だと抑制する。いくつかは、数字の\"2\"や\"3\"の形が浮かび上がっているように見える。それらの数字を認識するのに役立っているのかもしれない。"
   ]
  }
 ],
 "metadata": {
  "kernelspec": {
   "display_name": "Python 3",
   "language": "python",
   "name": "python3"
  },
  "language_info": {
   "codemirror_mode": {
    "name": "ipython",
    "version": 3
   },
   "file_extension": ".py",
   "mimetype": "text/x-python",
   "name": "python",
   "nbconvert_exporter": "python",
   "pygments_lexer": "ipython3",
   "version": "3.5.3"
  }
 },
 "nbformat": 4,
 "nbformat_minor": 2
}
